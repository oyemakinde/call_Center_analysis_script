{
  "cells": [
    {
      "cell_type": "markdown",
      "metadata": {
        "id": "view-in-github",
        "colab_type": "text"
      },
      "source": [
        "<a href=\"https://colab.research.google.com/github/oyemakinde/call_Center_analysis_script/blob/main/OYEWOLE7755_Project_3.ipynb\" target=\"_parent\"><img src=\"https://colab.research.google.com/assets/colab-badge.svg\" alt=\"Open In Colab\"/></a>"
      ]
    },
    {
      "cell_type": "code",
      "execution_count": null,
      "metadata": {
        "id": "vfIsnNy1C-I3"
      },
      "outputs": [],
      "source": [
        "from google.colab import drive\n",
        "#MOUNT DATA\n",
        "drive.mount('/content/drive')\n",
        "\n",
        "import pandas as pd\n",
        "import matplotlib.pyplot as plt\n",
        "import seaborn as sns\n",
        "\n",
        "\n"
      ]
    },
    {
      "cell_type": "code",
      "source": [
        "\n",
        "df = pd.read_csv(\"/content/drive/MyDrive/PROJECT 3/CallCenters.csv\")\n",
        "df"
      ],
      "metadata": {
        "id": "DDGqqC-jESjd"
      },
      "execution_count": null,
      "outputs": []
    },
    {
      "cell_type": "code",
      "execution_count": null,
      "metadata": {
        "id": "Rup6LLbUC-JG"
      },
      "outputs": [],
      "source": [
        "# Total number of calls received by all call centers during the entire period\n",
        "total_calls = df['calls'].sum()\n",
        "total_calls\n"
      ]
    },
    {
      "cell_type": "code",
      "execution_count": null,
      "metadata": {
        "id": "UBpK_AJmC-JI"
      },
      "outputs": [],
      "source": [
        "\n",
        "total_ps_calls = df[df['product'] == 'Photoshop']['calls'].sum()\n",
        "total_ps_calls\n"
      ]
    },
    {
      "cell_type": "code",
      "execution_count": null,
      "metadata": {
        "id": "fHbNMKzpC-JK"
      },
      "outputs": [],
      "source": [
        "# Product with the most calls made during 2020\n",
        "most_calls_product_2020 = df[df['year'] == 2020].groupby('product')['calls'].sum().sort_values(ascending=False).head(1)\n",
        "most_calls_product_2020\n"
      ]
    },
    {
      "cell_type": "code",
      "execution_count": null,
      "metadata": {
        "id": "h8UVbOQ8C-JM"
      },
      "outputs": [],
      "source": [
        "# Year with the highest number of calls\n",
        "most_calls_year = df.groupby('year')['calls'].sum().idxmax()\n",
        "most_calls_year2= df[df['year'] == most_calls_year]['calls'].sum()\n",
        "print(f\"Year with highest number of calls: {most_calls_year} with {most_calls_year2} calls\")\n"
      ]
    },
    {
      "cell_type": "code",
      "execution_count": null,
      "metadata": {
        "id": "aRr31zaTC-JN"
      },
      "outputs": [],
      "source": [
        "# Find center with highest number of calls\n",
        "most_calls_center_data = df.groupby('center')['calls'].sum()\n",
        "most_calls_center = most_calls_center_data.sort_values(ascending=False).head(1)\n",
        "most_calls_center"
      ]
    },
    {
      "cell_type": "code",
      "execution_count": null,
      "metadata": {
        "id": "ufyV3ag2C-JO"
      },
      "outputs": [],
      "source": [
        "# Calculate closed issue percentage for each center\n",
        "df['closed_percentage'] = df['closed'] / df['calls'] * 100\n",
        "centers_order = df.groupby('center')['closed_percentage'].mean()\n",
        "centers_order2 = centers_order.sort_values(ascending=False)\n",
        "centers_order2"
      ]
    },
    {
      "cell_type": "code",
      "execution_count": null,
      "metadata": {
        "id": "1SaYwDwTC-JQ"
      },
      "outputs": [],
      "source": [
        "# Plot total calls in each center\n",
        "plt.figure(figsize=(10, 6))\n",
        "sns.barplot(x='center', y='calls', data=df, estimator=sum)\n",
        "plt.title('Total Calls in Each Center')\n",
        "plt.show()"
      ]
    },
    {
      "cell_type": "code",
      "execution_count": null,
      "metadata": {
        "id": "u_ktQVw6C-JR"
      },
      "outputs": [],
      "source": [
        "# Plot distribution of calls over the years\n",
        "plt.figure(figsize=(10, 6))\n",
        "sns.barplot(x='year', y='calls', data=df, estimator=sum)\n",
        "plt.title('Distribution of Calls Over the Years')\n",
        "plt.show()\n"
      ]
    },
    {
      "cell_type": "code",
      "execution_count": null,
      "metadata": {
        "id": "VyjBbZi1C-JT"
      },
      "outputs": [],
      "source": [
        "# Plot distribution of calls across the centers for each year\n",
        "plt.figure(figsize=(10, 6))\n",
        "sns.barplot(x='year', y='calls', hue='center', data=df, estimator=sum)\n",
        "plt.title('Distribution of Calls Across the Centers for Each Year')\n",
        "plt.show()\n"
      ]
    }
  ],
  "metadata": {
    "kernelspec": {
      "display_name": "Python 3",
      "language": "python",
      "name": "python3"
    },
    "language_info": {
      "codemirror_mode": {
        "name": "ipython",
        "version": 3
      },
      "file_extension": ".py",
      "mimetype": "text/x-python",
      "name": "python",
      "nbconvert_exporter": "python",
      "pygments_lexer": "ipython3",
      "version": "3.8.3"
    },
    "colab": {
      "provenance": [],
      "include_colab_link": true
    }
  },
  "nbformat": 4,
  "nbformat_minor": 0
}